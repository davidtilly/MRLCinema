{
 "cells": [
  {
   "cell_type": "code",
   "execution_count": null,
   "id": "d3e7a15b",
   "metadata": {},
   "outputs": [],
   "source": [
    "from MRLCinema.extract_motion import extract_motion\n",
    "from MRLCinema.motion_statistics import motion_statistics\n",
    "from MRLCinema.patient_data import read_cine_patient_ID, find_cine_frame_of_reference\n",
    "from MRLCinema.patient_data import find_structure_set, find_plan\n",
    "from U2Dose.dicomio.rtstruct import RtStruct\n",
    "from U2Dose.dicomio.rtplan import RtPlan\n",
    "\n",
    "import pydicom\n",
    "import glob, os\n",
    "import datetime"
   ]
  },
  {
   "cell_type": "code",
   "execution_count": null,
   "id": "55d0a121",
   "metadata": {},
   "outputs": [
    {
     "name": "stdout",
     "output_type": "stream",
     "text": [
      "/mnt/P/TERAPI/MRLINAC/QA/RTQADATA/PATIENT_DATA/194202130656/12MRL1/RP.2.16.840.1.114337.1.1.1731323705.0.dcm\n",
      "1.3.46.670589.11.45030.5.0.21728.2024103114455197003\n",
      "\n",
      "/mnt/P/TERAPI/MRLINAC/QA/RTQADATA/PATIENT_DATA/194202130656/12MRL1-QA1/RP.2.16.840.1.114337.1.1.1731334301.0.dcm\n",
      "1.2.840.113619.2.55.3.2609388324.3223.1111562030.707.1001.0.11\n",
      "\n",
      "/mnt/P/TERAPI/MRLINAC/QA/RTQADATA/PATIENT_DATA/194202130656/12MRL1ADT01/RP.2.16.840.1.114337.1.1.1731405598.0.dcm\n",
      "1.3.46.670589.11.79101.5.0.18068.2024111210254377002\n",
      "\n",
      "/mnt/P/TERAPI/MRLINAC/QA/RTQADATA/PATIENT_DATA/194202130656/12MRL1ADT01/RP.2.16.840.1.114337.1.1.1731416864.0.dcm\n",
      "1.3.46.670589.11.79101.5.0.18068.2024111210254377002\n",
      "\n",
      "/mnt/P/TERAPI/MRLINAC/QA/RTQADATA/PATIENT_DATA/194202130656/12MRL1ADT01-QA1/RP.2.16.840.1.114337.1.1.1731416684.0.dcm\n",
      "1.2.840.113619.2.55.3.2609388324.3223.1111562030.707.1001.0.11\n",
      "\n",
      "/mnt/P/TERAPI/MRLINAC/QA/RTQADATA/PATIENT_DATA/194202130656/12MRL1ADT02/RP.2.16.840.1.114337.1.1.1731574348.0.dcm\n",
      "1.3.46.670589.11.79101.5.0.12140.2024111409141483001\n",
      "\n",
      "/mnt/P/TERAPI/MRLINAC/QA/RTQADATA/PATIENT_DATA/194202130656/12MRL1ADT02-QA1/RP.2.16.840.1.114337.1.1.1731576888.0.dcm\n",
      "1.2.840.113619.2.55.3.2609388324.3223.1111562030.707.1001.0.11\n",
      "\n",
      "/mnt/P/TERAPI/MRLINAC/QA/RTQADATA/PATIENT_DATA/194202130656/12MRL1ADT02-QA2/RP.2.16.840.1.114337.1.1.1733300899.0.dcm\n",
      "1.2.840.113619.2.55.3.2609388324.3223.1111562030.707.1001.0.11\n",
      "\n",
      "/mnt/P/TERAPI/MRLINAC/QA/RTQADATA/PATIENT_DATA/194202130656/12MRL1ADT03/RP.2.16.840.1.114337.1.1.1732008425.0.dcm\n",
      "1.3.46.670589.11.79101.5.0.17756.2024111909341641008\n",
      "\n",
      "/mnt/P/TERAPI/MRLINAC/QA/RTQADATA/PATIENT_DATA/194202130656/12MRL1ADT04/RP.2.16.840.1.114337.1.1.1732181721.0.dcm\n",
      "1.3.46.670589.11.79101.5.0.16308.2024112109494261006\n",
      "\n",
      "/mnt/P/TERAPI/MRLINAC/QA/RTQADATA/PATIENT_DATA/194202130656/12MRL1ADT05/RP.2.16.840.1.114337.1.1.1732535223.0.dcm\n",
      "1.3.46.670589.11.79101.5.0.13536.2024112511581068003\n",
      "\n",
      "/mnt/P/TERAPI/MRLINAC/QA/RTQADATA/PATIENT_DATA/194202130656/12MRL1ADT06/RP.2.16.840.1.114337.1.1.1732613519.0.dcm\n",
      "1.3.46.670589.11.79101.5.0.16004.2024112610002469002\n",
      "\n",
      "/mnt/P/TERAPI/MRLINAC/QA/RTQADATA/PATIENT_DATA/194202130656/12MRL1ADT07/RP.2.16.840.1.114337.1.1.1732782415.0.dcm\n",
      "1.3.46.670589.11.79101.5.0.3432.2024112808532698001\n",
      "\n"
     ]
    }
   ],
   "source": [
    "path = '/mnt/P/TERAPI/FYSIKER/David_Tilly/cine_conversion/1.3.46.670589.11.79101.5.0.17796.2024112808532524002'\n",
    "\n",
    "patient_data_root= f'/mnt/P/TERAPI/MRLINAC/QA/RTQADATA/PATIENT_DATA'\n",
    "patient_ID = read_cine_patient_ID(path)\n",
    "frame_of_ref = find_cine_frame_of_reference(path)\n",
    "rtss = find_structure_set(patient_data_root, patient_ID, frame_of_ref)\n",
    "\n",
    "\n",
    "rtplan_filenames = glob.glob(os.path.join(patient_root, patient_ID, '*', 'RP*.dcm'))\n",
    "\n",
    "for filename in rtplan_filenames:\n",
    "    ds = pydicom.read_file(filename)\n",
    "    #print(filename, ds.FrameOfReferenceUID)\n",
    "    print(filename)\n",
    "    print(ds.FrameOfReferenceUID)\n",
    "    print()"
   ]
  },
  {
   "cell_type": "code",
   "execution_count": null,
   "id": "989ec2c6",
   "metadata": {},
   "outputs": [],
   "source": [
    "patient_ID = read_patient_ID(path)\n",
    "print(patient_ID)\n",
    "\n",
    "print('find rtss')\n",
    "rtss = find_structure_set(patient_ID, cines[0].timestamp)\n",
    "print(rtss.all_roi_names())\n",
    "\n",
    "print('find rtplan')\n",
    "rtplan = find_plan(patient_ID, cines[0].timestamp)\n",
    "\n",
    "rtss.all_roi_names()"
   ]
  },
  {
   "cell_type": "code",
   "execution_count": null,
   "id": "d93dce66",
   "metadata": {},
   "outputs": [],
   "source": [
    "time_transversal, displacements_transversal, time_sagittal, displacements_sagittal, time_coronal, displacements_coronal = extract_motion(cines, rtss=rtss, max_n=1500) "
   ]
  }
 ],
 "metadata": {
  "kernelspec": {
   "display_name": "py3.11",
   "language": "python",
   "name": "python3"
  },
  "language_info": {
   "codemirror_mode": {
    "name": "ipython",
    "version": 3
   },
   "file_extension": ".py",
   "mimetype": "text/x-python",
   "name": "python",
   "nbconvert_exporter": "python",
   "pygments_lexer": "ipython3",
   "version": "3.11.9"
  }
 },
 "nbformat": 4,
 "nbformat_minor": 5
}
