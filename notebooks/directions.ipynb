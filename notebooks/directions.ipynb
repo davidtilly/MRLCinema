{
 "cells": [
  {
   "cell_type": "code",
   "execution_count": 1,
   "metadata": {},
   "outputs": [],
   "source": [
    "import SimpleITK as sitk\n",
    "import numpy as np\n"
   ]
  },
  {
   "cell_type": "code",
   "execution_count": 8,
   "metadata": {},
   "outputs": [
    {
     "name": "stdout",
     "output_type": "stream",
     "text": [
      "(1.0, 1.0, 1.0)\n",
      "\n",
      "0.0\n"
     ]
    },
    {
     "data": {
      "text/plain": [
       "1.0"
      ]
     },
     "execution_count": 8,
     "metadata": {},
     "output_type": "execute_result"
    }
   ],
   "source": [
    "image = sitk.Image(10, 11, 12, sitk.sitkFloat32)\n",
    "row_dir = (0.0, 1.0, 0.0)\n",
    "col_dir = (0.0, 0.0, -1.0)\n",
    "depth_dir = (-1.0, 0.0, 0.0)\n",
    "\n",
    "#image.SetDirection((0.0, 0.0, -1.0, 1.0, 0.0, 0.0, 0.0, -1.0, 0.0))\n",
    "image.SetDirection((row_dir[0], col_dir[0], depth_dir[0], row_dir[1], col_dir[1], depth_dir[1], row_dir[2], col_dir[2], depth_dir[2]))\n",
    "\n",
    "print(image.GetSpacing())\n",
    "print()\n",
    "image.TransformIndexToPhysicalPoint((9, 10, 11))\n",
    "print(image[9, 10, 11])\n",
    "image.SetPixel((9, 10, 11), 1)\n",
    "image[9, 10, 11] \n"
   ]
  },
  {
   "cell_type": "code",
   "execution_count": null,
   "metadata": {},
   "outputs": [],
   "source": []
  }
 ],
 "metadata": {
  "kernelspec": {
   "display_name": "py3.11",
   "language": "python",
   "name": "python3"
  },
  "language_info": {
   "codemirror_mode": {
    "name": "ipython",
    "version": 3
   },
   "file_extension": ".py",
   "mimetype": "text/x-python",
   "name": "python",
   "nbconvert_exporter": "python",
   "pygments_lexer": "ipython3",
   "version": "3.11.9"
  }
 },
 "nbformat": 4,
 "nbformat_minor": 2
}
